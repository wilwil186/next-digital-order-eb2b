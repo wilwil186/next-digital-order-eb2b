{
 "cells": [
  {
   "cell_type": "markdown",
   "id": "b6f607a9",
   "metadata": {},
   "source": [
    "# EDA — Pedidos eB2B (100% PySpark)\n",
    "\n",
    "Este cuaderno realiza un **Análisis Exploratorio de Datos (EDA)** usando **PySpark de principio a fin**.  \n",
    "La lectura, limpieza, agregaciones y cálculos se hacen con Spark. Para los **gráficos**, se convierten **únicamente resultados agregados** y de tamaño pequeño a pandas/Matplotlib.\n",
    "\n",
    "**Objetivo:** entender patrones de pedidos (especialmente el canal `DIGITAL`), montos de facturación y distribución por país, región, etc.\n"
   ]
  },
  {
   "cell_type": "markdown",
   "id": "1d61a538",
   "metadata": {},
   "source": [
    "## 1. Configuración de entorno y sesión Spark\n",
    "\n",
    "Se crea una sesión local de Spark utilizando todos los núcleos disponibles. Ajusta memoria/tuning si lo necesitas.\n"
   ]
  },
  {
   "cell_type": "code",
   "execution_count": null,
   "id": "183ee770",
   "metadata": {},
   "outputs": [],
   "source": [
    "from pyspark.sql import SparkSession\n",
    "from pyspark.sql import functions as F\n",
    "from pyspark.sql import types as T\n",
    "\n",
    "spark = (\n",
    "    SparkSession.builder\n",
    "    .appName(\"next-digital-order-eb2b-eda\")\n",
    "    .master(\"local[*]\")\n",
    "    .config(\"spark.sql.execution.arrow.pyspark.enabled\", \"true\")\n",
    "    .config(\"spark.driver.memory\", \"4g\")\n",
    "    .config(\"spark.sql.warehouse.dir\", \"./spark-warehouse\")\n",
    "    .getOrCreate()\n",
    ")\n",
    "spark.sparkContext.setLogLevel(\"WARN\")\n",
    "\n",
    "print(\"Spark version:\", spark.version)"
   ]
  },
  {
   "cell_type": "markdown",
   "id": "33c373b5",
   "metadata": {},
   "source": [
    "## 2. Carga de datos\n",
    "\n",
    "Indica el directorio Parquet de tu dataset. Por defecto, se usa `dataset/dataset`.  \n",
    "Si tu ruta es diferente, actualiza `DATA_DIR`.\n"
   ]
  },
  {
   "cell_type": "code",
   "execution_count": null,
   "id": "d22d9728",
   "metadata": {},
   "outputs": [],
   "source": [
    "# === Parámetro de entrada ===\n",
    "DATA_DIR = \"dataset/dataset\"  # Cambia esta ruta si tu dataset está en otra carpeta\n",
    "\n",
    "# === Lectura ===\n",
    "df = spark.read.parquet(DATA_DIR)\n",
    "\n",
    "print(\"Número de filas:\", df.count())\n",
    "print(\"Número de columnas:\", len(df.columns))\n",
    "df.printSchema()\n",
    "\n",
    "# Vista rápida\n",
    "df.show(5, truncate=False)"
   ]
  },
  {
   "cell_type": "markdown",
   "id": "0e8a9126",
   "metadata": {},
   "source": [
    "## 3. Diccionario de datos (esperado)\n",
    "\n",
    "| Columna                   | Tipo (esperado) | Descripción breve |\n",
    "|--------------------------|-----------------|-------------------|\n",
    "| `cliente_id`             | string          | Identificador de cliente |\n",
    "| `pais_cd`                | string          | Código de país (GT, PE, EC, SV, etc.) |\n",
    "| `region_comercial_txt`   | string          | Región comercial |\n",
    "| `agencia_id`             | string          | Agencia |\n",
    "| `ruta_id`                | string          | Ruta |\n",
    "| `tipo_cliente_cd`        | string          | Tipo de cliente (TIENDA, MINIMARKET, etc.) |\n",
    "| `madurez_digital_cd`     | string          | Nivel de madurez digital (ALTA, MEDIA, BAJA) |\n",
    "| `estrellas_txt`          | string          | Puntuación/estrellas |\n",
    "| `frecuencia_visitas_cd`  | string          | Frecuencia de visitas (ej. LMI, LMV, etc.) |\n",
    "| `fecha_pedido_dt`        | timestamp       | Fecha/hora del pedido |\n",
    "| `canal_pedido_cd`        | string          | Canal del pedido (DIGITAL, VENDEDOR, TELEFONO) |\n",
    "| `facturacion_usd_val`    | double          | Monto facturado en USD |\n",
    "| `materiales_distintos_val`| long           | Conteo de materiales distintos en el pedido |\n",
    "| `cajas_fisicas`          | double          | Cajas físicas (volumen) |\n",
    "\n",
    "> Si alguna columna no existe en tu dataset, las celdas siguientes la ignorarán automáticamente.\n"
   ]
  },
  {
   "cell_type": "markdown",
   "id": "0b42a8ba",
   "metadata": {},
   "source": [
    "## 4. Calidad de datos\n",
    "\n",
    "### 4.1 Nulos por columna\n",
    "Se calcula el número de valores nulos por columna.\n"
   ]
  },
  {
   "cell_type": "code",
   "execution_count": null,
   "id": "f5bdc422",
   "metadata": {},
   "outputs": [],
   "source": [
    "# Conteo de nulos por columna\n",
    "null_exprs = [F.sum(F.col(c).isNull().cast(\"int\")).alias(c) for c in df.columns]\n",
    "nulls = df.agg(*null_exprs)\n",
    "nulls.show(truncate=False)\n",
    "\n",
    "# Convierte a forma larga para facilitar visualización posterior\n",
    "nulls_long = nulls.select(F.explode(F.array(*[F.struct(F.lit(c).alias(\"col\"), F.col(c).alias(\"nulls\")) for c in df.columns])).alias(\"x\"))                   .select(\"x.col\", \"x.nulls\")\n",
    "\n",
    "nulls_long.createOrReplaceTempView(\"nulls_long\")"
   ]
  },
  {
   "cell_type": "markdown",
   "id": "ffbf40a8",
   "metadata": {},
   "source": [
    "### 4.2 Distintos por columna (muestra)\n",
    "\n",
    "Para columnas categóricas, revisar recuento de valores distintos ayuda a detectar codificaciones extrañas.\n"
   ]
  },
  {
   "cell_type": "code",
   "execution_count": null,
   "id": "0506f3ea",
   "metadata": {},
   "outputs": [],
   "source": [
    "# Distintos aproximados por columna (puede ser costoso si son muchas columnas)\n",
    "distinct_counts = df.agg(*[F.countDistinct(F.col(c)).alias(c) for c in df.columns])\n",
    "distinct_counts.show(truncate=False)"
   ]
  },
  {
   "cell_type": "markdown",
   "id": "5a1ef0ec",
   "metadata": {},
   "source": [
    "### 4.3 Rango temporal\n",
    "\n",
    "Se extraen **año y mes** de `fecha_pedido_dt` para conocer el rango y densidad temporal.\n"
   ]
  },
  {
   "cell_type": "code",
   "execution_count": null,
   "id": "75e44b29",
   "metadata": {},
   "outputs": [],
   "source": [
    "df_dates = df.withColumn(\"year\", F.year(\"fecha_pedido_dt\"))               .withColumn(\"month\", F.month(\"fecha_pedido_dt\"))               .withColumn(\"year_month\", F.date_format(\"fecha_pedido_dt\", \"yyyy-MM\"))\n",
    "\n",
    "df_dates.select(\n",
    "    F.min(\"fecha_pedido_dt\").alias(\"min_fecha\"),\n",
    "    F.max(\"fecha_pedido_dt\").alias(\"max_fecha\")\n",
    ").show(truncate=False)\n",
    "\n",
    "df_dates.groupBy(\"year_month\").count().orderBy(\"year_month\").show(12, truncate=False)"
   ]
  },
  {
   "cell_type": "markdown",
   "id": "fa5c8a7c",
   "metadata": {},
   "source": [
    "## 5. Distribuciones numéricas\n",
    "\n",
    "Se exploran las variables numéricas clave (`facturacion_usd_val`, `cajas_fisicas`, `materiales_distintos_val`).  \n",
    "Para graficar histogramas y boxplots se toman **muestras agregadas o limitadas** y se convierten a pandas.\n"
   ]
  },
  {
   "cell_type": "code",
   "execution_count": null,
   "id": "63d9804c",
   "metadata": {},
   "outputs": [],
   "source": [
    "import matplotlib.pyplot as plt\n",
    "\n",
    "def style_ax(ax):\n",
    "    # Oculta ejes superior y derecho\n",
    "    ax.spines['right'].set_visible(False)\n",
    "    ax.spines['top'].set_visible(False)\n",
    "    return ax\n",
    "\n",
    "def add_bar_labels(ax):\n",
    "    for p in ax.patches:\n",
    "        height = p.get_height()\n",
    "        if height is not None:\n",
    "            ax.annotate(f'{height:.0f}', (p.get_x() + p.get_width() / 2, height),\n",
    "                        ha='center', va='bottom', fontsize=9, rotation=0)\n",
    "\n",
    "num_cols = [c for c, t in df.dtypes if t in (\"double\", \"float\", \"int\", \"bigint\")]\n",
    "\n",
    "print(\"Columnas numéricas detectadas:\", num_cols)\n",
    "\n",
    "# Histograma por variable (usando sample para no traer todo)\n",
    "for col in [\"facturacion_usd_val\", \"cajas_fisicas\", \"materiales_distintos_val\"]:\n",
    "    if col in df.columns:\n",
    "        pdf = df.select(F.col(col).cast(\"double\")).dropna().sample(fraction=0.05, seed=42).limit(100000).toPandas()\n",
    "        if not pdf.empty:\n",
    "            plt.figure(figsize=(6,4))\n",
    "            ax = plt.gca()\n",
    "            ax = style_ax(ax)\n",
    "            ax.hist(pdf[col], bins=30)\n",
    "            ax.set_title(f\"Histograma — {col}\")\n",
    "            ax.set_xlabel(col)\n",
    "            ax.set_ylabel(\"Frecuencia\")\n",
    "            plt.show()"
   ]
  },
  {
   "cell_type": "markdown",
   "id": "bb780386",
   "metadata": {},
   "source": [
    "## 6. Canal de pedido y adopción digital\n",
    "\n",
    "Se analiza la participación del canal `DIGITAL` por país y su evolución temporal.\n"
   ]
  },
  {
   "cell_type": "code",
   "execution_count": null,
   "id": "3a22c16a",
   "metadata": {},
   "outputs": [],
   "source": [
    "# Participación por país\n",
    "by_country = (\n",
    "    df.groupBy(\"pais_cd\")\n",
    "      .pivot(\"canal_pedido_cd\")\n",
    "      .count()\n",
    "      .fillna(0)\n",
    ")\n",
    "\n",
    "# Agrega columna con % digital\n",
    "if \"DIGITAL\" in by_country.columns:\n",
    "    by_country = by_country.withColumn(\"total\", sum([F.col(c) for c in by_country.columns if c not in (\"pais_cd\")]))\n",
    "    by_country = by_country.withColumn(\"pct_digital\", (F.col(\"DIGITAL\") / F.col(\"total\")) * 100.0)\n",
    "\n",
    "by_country.orderBy(F.desc(\"pct_digital\")).show(truncate=False)\n",
    "\n",
    "# Gráfico de % digital por país\n",
    "if \"pct_digital\" in by_country.columns:\n",
    "    pdf = by_country.select(\"pais_cd\", F.round(\"pct_digital\", 1).alias(\"pct_digital\")).orderBy(F.desc(\"pct_digital\")).toPandas()\n",
    "    if not pdf.empty:\n",
    "        plt.figure(figsize=(7,4))\n",
    "        ax = plt.gca()\n",
    "        ax = style_ax(ax)\n",
    "        bars = ax.bar(pdf[\"pais_cd\"], pdf[\"pct_digital\"])\n",
    "        add_bar_labels(ax)\n",
    "        ax.set_title(\"% de pedidos DIGITAL por país\")\n",
    "        ax.set_xlabel(\"País\")\n",
    "        ax.set_ylabel(\"% DIGITAL\")\n",
    "        plt.tight_layout()\n",
    "        plt.show()"
   ]
  },
  {
   "cell_type": "code",
   "execution_count": null,
   "id": "23d96702",
   "metadata": {},
   "outputs": [],
   "source": [
    "# Evolución mensual del % DIGITAL (time series)\n",
    "df_m = df.withColumn(\"ym\", F.date_format(\"fecha_pedido_dt\", \"yyyy-MM\"))\n",
    "monthly = df_m.groupBy(\"ym\", \"canal_pedido_cd\").count()\n",
    "\n",
    "# Pivot a wide format\n",
    "monthly_pivot = monthly.groupBy(\"ym\").pivot(\"canal_pedido_cd\").sum(\"count\").fillna(0)\n",
    "cols = [c for c in monthly_pivot.columns if c not in (\"ym\")]\n",
    "monthly_pivot = monthly_pivot.withColumn(\"total\", sum([F.col(c) for c in cols]))\n",
    "if \"DIGITAL\" in monthly_pivot.columns:\n",
    "    monthly_pivot = monthly_pivot.withColumn(\"pct_digital\", (F.col(\"DIGITAL\")/F.col(\"total\"))*100.0)\n",
    "\n",
    "monthly_pivot.orderBy(\"ym\").show(12, truncate=False)\n",
    "\n",
    "# Gráfico línea % DIGITAL\n",
    "if \"pct_digital\" in monthly_pivot.columns:\n",
    "    pdf = monthly_pivot.select(\"ym\", F.round(\"pct_digital\", 1).alias(\"pct_digital\")).orderBy(\"ym\").toPandas()\n",
    "    if not pdf.empty:\n",
    "        plt.figure(figsize=(7,4))\n",
    "        ax = plt.gca()\n",
    "        ax = style_ax(ax)\n",
    "        ax.plot(pdf[\"ym\"], pdf[\"pct_digital\"], marker=\"o\")\n",
    "        # etiquetas de datos\n",
    "        for x, y in zip(pdf[\"ym\"], pdf[\"pct_digital\"]):\n",
    "            ax.annotate(f\"{y:.1f}\", (x, y), textcoords=\"offset points\", xytext=(0,5), ha=\"center\", fontsize=8)\n",
    "        ax.set_title(\"Evolución mensual del % DIGITAL\")\n",
    "        ax.set_xlabel(\"Año-Mes\")\n",
    "        ax.set_ylabel(\"% DIGITAL\")\n",
    "        plt.xticks(rotation=45, ha=\"right\")\n",
    "        plt.tight_layout()\n",
    "        plt.show()"
   ]
  },
  {
   "cell_type": "markdown",
   "id": "085f07cc",
   "metadata": {},
   "source": [
    "## 7. Facturación por país y región\n",
    "\n",
    "Se examina la distribución de `facturacion_usd_val` por `pais_cd` y por `region_comercial_txt`.\n"
   ]
  },
  {
   "cell_type": "code",
   "execution_count": null,
   "id": "639f6509",
   "metadata": {},
   "outputs": [],
   "source": [
    "# Facturación total por país\n",
    "if \"facturacion_usd_val\" in df.columns:\n",
    "    rev_country = df.groupBy(\"pais_cd\").agg(F.sum(\"facturacion_usd_val\").alias(\"facturacion_usd_sum\"))\n",
    "    pdf = rev_country.orderBy(F.desc(\"facturacion_usd_sum\")).toPandas()\n",
    "    if not pdf.empty:\n",
    "        plt.figure(figsize=(7,4))\n",
    "        ax = plt.gca()\n",
    "        ax = style_ax(ax)\n",
    "        bars = ax.bar(pdf[\"pais_cd\"], pdf[\"facturacion_usd_sum\"].round(0))\n",
    "        add_bar_labels(ax)\n",
    "        ax.set_title(\"Facturación total por país (USD)\")\n",
    "        ax.set_xlabel(\"País\")\n",
    "        ax.set_ylabel(\"USD\")\n",
    "        plt.tight_layout()\n",
    "        plt.show()\n",
    "\n",
    "# Facturación por región (Top-N)\n",
    "if set([\"region_comercial_txt\", \"facturacion_usd_val\"]).issubset(set(df.columns)):\n",
    "    rev_region = df.groupBy(\"region_comercial_txt\").agg(F.sum(\"facturacion_usd_val\").alias(\"facturacion_usd_sum\"))\n",
    "    pdf = rev_region.orderBy(F.desc(\"facturacion_usd_sum\")).limit(15).toPandas()\n",
    "    if not pdf.empty:\n",
    "        plt.figure(figsize=(8,4))\n",
    "        ax = plt.gca()\n",
    "        ax = style_ax(ax)\n",
    "        bars = ax.bar(pdf[\"region_comercial_txt\"], pdf[\"facturacion_usd_sum\"].round(0))\n",
    "        add_bar_labels(ax)\n",
    "        ax.set_title(\"Top regiones por facturación (USD)\")\n",
    "        ax.set_xlabel(\"Región\")\n",
    "        ax.set_ylabel(\"USD\")\n",
    "        plt.xticks(rotation=45, ha=\"right\")\n",
    "        plt.tight_layout()\n",
    "        plt.show()"
   ]
  },
  {
   "cell_type": "markdown",
   "id": "c6c4b466",
   "metadata": {},
   "source": [
    "## 8. Distribuciones por canal\n",
    "\n",
    "Comparación de montos por `canal_pedido_cd`. Se muestran **boxplots** y/o estadísticas descriptivas.\n"
   ]
  },
  {
   "cell_type": "code",
   "execution_count": null,
   "id": "bcadc843",
   "metadata": {},
   "outputs": [],
   "source": [
    "# Descriptivos por canal\n",
    "if set([\"canal_pedido_cd\", \"facturacion_usd_val\"]).issubset(set(df.columns)):\n",
    "    desc = (df.groupBy(\"canal_pedido_cd\")\n",
    "              .agg(F.count(\"*\").alias(\"n\"),\n",
    "                   F.avg(\"facturacion_usd_val\").alias(\"avg_fact\"),\n",
    "                   F.expr(\"percentile_approx(facturacion_usd_val, 0.5)\").alias(\"p50_fact\"),\n",
    "                   F.max(\"facturacion_usd_val\").alias(\"max_fact\"))\n",
    "           ).orderBy(F.desc(\"n\"))\n",
    "    desc.show(truncate=False)\n",
    "\n",
    "    # Boxplot pequeño (muestra)\n",
    "    pdf = (df.select(\"canal_pedido_cd\", F.col(\"facturacion_usd_val\").cast(\"double\").alias(\"fact\"))\n",
    "             .dropna()\n",
    "             .sample(fraction=0.05, seed=42)\n",
    "             .limit(50000)\n",
    "             .toPandas())\n",
    "    if not pdf.empty:\n",
    "        plt.figure(figsize=(7,4))\n",
    "        ax = plt.gca()\n",
    "        ax = style_ax(ax)\n",
    "        ax.boxplot([pdf.loc[pdf[\"canal_pedido_cd\"]==c, \"fact\"] for c in sorted(pdf[\"canal_pedido_cd\"].unique())],\n",
    "                   labels=sorted(pdf[\"canal_pedido_cd\"].unique()), showmeans=True)\n",
    "        # Etiquetas de datos: para boxplots no hay barras, así que anotamos medias\n",
    "        grp = pdf.groupby(\"canal_pedido_cd\")[\"fact\"].mean().round(0)\n",
    "        for i, (c, m) in enumerate(grp.items(), start=1):\n",
    "            ax.annotate(f\"avg={m:.0f}\", (i, m), textcoords=\"offset points\", xytext=(0,5), ha=\"center\", fontsize=8)\n",
    "        ax.set_title(\"Distribución de facturación por canal (muestra)\")\n",
    "        ax.set_xlabel(\"Canal\")\n",
    "        ax.set_ylabel(\"USD\")\n",
    "        plt.tight_layout()\n",
    "        plt.show()"
   ]
  },
  {
   "cell_type": "markdown",
   "id": "755bb250",
   "metadata": {},
   "source": [
    "## 9. Correlaciones (numéricas)\n",
    "\n",
    "Se calculan correlaciones de Pearson entre variables numéricas disponibles.\n"
   ]
  },
  {
   "cell_type": "code",
   "execution_count": null,
   "id": "34d21436",
   "metadata": {},
   "outputs": [],
   "source": [
    "num_cols = [c for c, t in df.dtypes if t in (\"double\", \"float\", \"int\", \"bigint\")]\n",
    "num_cols = [c for c in num_cols if c != \"year\"]\n",
    "\n",
    "if len(num_cols) >= 2:\n",
    "    # Construir matriz de correlación en Spark (par de columnas)\n",
    "    pairs = []\n",
    "    for i in range(len(num_cols)):\n",
    "        for j in range(i+1, len(num_cols)):\n",
    "            c1, c2 = num_cols[i], num_cols[j]\n",
    "            corr = df.select(c1, c2).corr(c1, c2)\n",
    "            pairs.append((c1, c2, corr))\n",
    "\n",
    "    # Mostrar top correlaciones absolutas\n",
    "    pairs_sorted = sorted(pairs, key=lambda x: abs(x[2]) if x[2] is not None else -1, reverse=True)\n",
    "    print(\"Top correlaciones (abs):\")\n",
    "    for c1, c2, r in pairs_sorted[:10]:\n",
    "        print(f\"{c1:>24} ~ {c2:<24} = {r:.3f}\" if r is not None else f\"{c1} ~ {c2} = None\")"
   ]
  },
  {
   "cell_type": "markdown",
   "id": "cd41ef57",
   "metadata": {},
   "source": [
    "## 10. Chequeos rápidos de integridad\n",
    "\n",
    "Duplicados obvios por `cliente_id` + fecha, y top clientes por facturación.\n"
   ]
  },
  {
   "cell_type": "code",
   "execution_count": null,
   "id": "c55a0f26",
   "metadata": {},
   "outputs": [],
   "source": [
    "# Duplicados por cliente-fecha\n",
    "if set([\"cliente_id\", \"fecha_pedido_dt\"]).issubset(set(df.columns)):\n",
    "    dups = (df.groupBy(\"cliente_id\", \"fecha_pedido_dt\")\n",
    "              .count().filter(F.col(\"count\") > 1)\n",
    "           )\n",
    "    print(\"Duplicados cliente-fecha:\", dups.count())\n",
    "    dups.show(5, truncate=False)\n",
    "\n",
    "# Top clientes por facturación acumulada\n",
    "if set([\"cliente_id\", \"facturacion_usd_val\"]).issubset(set(df.columns)):\n",
    "    top_clients = (df.groupBy(\"cliente_id\")\n",
    "                     .agg(F.sum(\"facturacion_usd_val\").alias(\"fact_total\"))\n",
    "                   ).orderBy(F.desc(\"fact_total\")).limit(20)\n",
    "    top_clients.show(truncate=False)"
   ]
  },
  {
   "cell_type": "markdown",
   "id": "c9065c0c",
   "metadata": {},
   "source": [
    "## 11. Hallazgos iniciales y próximos pasos\n",
    "\n",
    "- **Rango temporal:** revisa si hay periodos con vacíos de datos o picos inusuales de actividad.\n",
    "- **Adopción digital:** observa países/regiones con mayor `pct_digital` para priorizar iniciativas.\n",
    "- **Facturación:** identifica regiones/segmentos con mayor contribución en USD.\n",
    "- **Distribuciones:** verifica outliers en `facturacion_usd_val` y `cajas_fisicas`.\n",
    "- **Calidad:** columnas con muchos nulos pueden requerir imputación o exclusión según el modelado futuro.\n",
    "\n",
    "**Siguientes pasos sugeridos (no implementados aquí):**\n",
    "- Feature engineering para modelar probabilidad de próximo pedido `DIGITAL` (cohortes, recencia, frecuencia, valor — RFM).\n",
    "- Estratificar por tipo de cliente y madurez digital.\n",
    "- Preparar un set de entrenamiento a nivel cliente-mes con etiqueta `próximo canal = DIGITAL`.\n"
   ]
  },
  {
   "cell_type": "code",
   "execution_count": null,
   "id": "0edaed7e",
   "metadata": {},
   "outputs": [],
   "source": [
    "# Cierre ordenado de la sesión\n",
    "spark.stop()\n",
    "print(\"Spark session stopped.\")"
   ]
  }
 ],
 "metadata": {
  "kernelspec": {
   "display_name": ".venv",
   "language": "python",
   "name": "python3"
  },
  "language_info": {
   "name": "python",
   "version": "3.13.5"
  }
 },
 "nbformat": 4,
 "nbformat_minor": 5
}
